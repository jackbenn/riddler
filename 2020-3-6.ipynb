{
 "cells": [
  {
   "cell_type": "code",
   "execution_count": 144,
   "metadata": {},
   "outputs": [],
   "source": [
    "import numpy as np\n",
    "import matplotlib.pyplot as plt\n",
    "plt.style.use('ggplot')\n",
    "%matplotlib inline"
   ]
  },
  {
   "cell_type": "markdown",
   "metadata": {},
   "source": [
    "https://fivethirtyeight.com/features/how-good-are-you-at-guess-who/"
   ]
  },
  {
   "cell_type": "markdown",
   "metadata": {},
   "source": [
    "### Riddler Express"
   ]
  },
  {
   "cell_type": "markdown",
   "metadata": {},
   "source": [
    "```\n",
    "  1   2    4\n",
    "  8  16   32\n",
    " 64 128  256\n",
    "```"
   ]
  },
  {
   "cell_type": "code",
   "execution_count": 103,
   "metadata": {},
   "outputs": [],
   "source": [
    "def m(b, row):\n",
    "    return (b & row)==row\n",
    "\n",
    "def is_win(b):\n",
    "    return (m(b,  7) or m(b, 56) or m(b, 448) or\n",
    "            m(b, 73) or m(b, 146) or m(b, 292) or\n",
    "            m(b, 273) or m(b, 84))"
   ]
  },
  {
   "cell_type": "code",
   "execution_count": 104,
   "metadata": {},
   "outputs": [
    {
     "data": {
      "text/plain": [
       "0.38671875"
      ]
     },
     "execution_count": 104,
     "metadata": {},
     "output_type": "execute_result"
    }
   ],
   "source": [
    "wins = 0\n",
    "for b in range(512):\n",
    "    wins += is_win(b) and not is_win(b ^ 511)\n",
    "wins / 512"
   ]
  },
  {
   "cell_type": "code",
   "execution_count": null,
   "metadata": {},
   "outputs": [],
   "source": []
  },
  {
   "cell_type": "code",
   "execution_count": null,
   "metadata": {},
   "outputs": [],
   "source": []
  },
  {
   "cell_type": "markdown",
   "metadata": {},
   "source": [
    "### Riddler Classic"
   ]
  },
  {
   "cell_type": "code",
   "execution_count": 162,
   "metadata": {},
   "outputs": [],
   "source": [
    "def guess_who(a, b, _memo={}):\n",
    "    '''play guess who, when you have `a` options\n",
    "    and opponent has `b` options'''\n",
    "    if (a, b) not in _memo:\n",
    "        options = [1/a]\n",
    "        for k in range(1, a//2+1):\n",
    "            options.append(k/a     * (1 - guess_who(b, k)) +\n",
    "                           (a-k)/a * (1 - guess_who(b, a-k)))\n",
    "        _memo[a, b] = max(options)\n",
    "    return _memo[a, b]"
   ]
  },
  {
   "cell_type": "code",
   "execution_count": 163,
   "metadata": {},
   "outputs": [
    {
     "data": {
      "text/plain": [
       "0.5625"
      ]
     },
     "execution_count": 163,
     "metadata": {},
     "output_type": "execute_result"
    }
   ],
   "source": [
    "guess_who(4, 4)"
   ]
  },
  {
   "cell_type": "code",
   "execution_count": 164,
   "metadata": {},
   "outputs": [
    {
     "data": {
      "text/plain": [
       "0.5612244897959184"
      ]
     },
     "execution_count": 164,
     "metadata": {},
     "output_type": "execute_result"
    }
   ],
   "source": [
    "guess_who(14, 14)"
   ]
  },
  {
   "cell_type": "code",
   "execution_count": 60,
   "metadata": {},
   "outputs": [
    {
     "data": {
      "text/plain": [
       "0.5555555555555556"
      ]
     },
     "execution_count": 60,
     "metadata": {},
     "output_type": "execute_result"
    }
   ],
   "source": [
    "guess_who(24, 24)"
   ]
  },
  {
   "cell_type": "code",
   "execution_count": 44,
   "metadata": {
    "scrolled": false
   },
   "outputs": [
    {
     "name": "stdout",
     "output_type": "stream",
     "text": [
      "    1 1.0\n",
      "    2 0.5\n",
      "    3 0.5555555555555556\n",
      "    4 0.5625\n",
      "    5 0.56\n",
      "    6 0.5555555555555556\n",
      "    7 0.5510204081632654\n",
      "    8 0.5625\n",
      "    9 0.5555555555555556\n",
      "   10 0.56\n",
      "   11 0.5619834710743802\n",
      "   12 0.5555555555555556\n",
      "   13 0.5562130177514792\n",
      "   14 0.5612244897959184\n",
      "   15 0.5555555555555556\n",
      "   16 0.5625\n",
      "   17 0.5570934256055364\n",
      "   18 0.5617283950617284\n",
      "   19 0.5595567867036011\n",
      "   20 0.56\n",
      "   21 0.562358276643991\n",
      "   22 0.5619834710743802\n",
      "   23 0.5595463137996219\n",
      "   24 0.5555555555555556\n",
      "   25 0.5568000000000001\n",
      "   26 0.5591715976331361\n",
      "   27 0.5582990397805213\n",
      "   28 0.5612244897959183\n",
      "   29 0.558858501783591\n",
      "   30 0.5622222222222222\n",
      "   31 0.5587929240374611\n",
      "   32 0.5625\n",
      "   33 0.559228650137741\n",
      "   34 0.5622837370242215\n",
      "   35 0.56\n",
      "   36 0.5617283950617284\n",
      "   37 0.5602629656683711\n",
      "   38 0.5609418282548477\n",
      "   39 0.5601577909270218\n",
      "   40 0.56\n",
      "   41 0.561570493753718\n",
      "   42 0.562358276643991\n",
      "   43 0.5624661979448351\n",
      "   44 0.5619834710743802\n",
      "   45 0.5609876543209877\n",
      "   46 0.5595463137996219\n",
      "   47 0.557718424626528\n",
      "   48 0.5555555555555557\n",
      "   49 0.5564348188254895\n",
      "   50 0.5576000000000001\n",
      "   51 0.5578623606305269\n",
      "   52 0.5591715976331362\n",
      "   53 0.5589177643289428\n",
      "   54 0.5603566529492456\n",
      "   55 0.5596694214876033\n",
      "   56 0.5612244897959183\n",
      "   57 0.5601723607263774\n",
      "   58 0.5618311533888228\n",
      "   59 0.5604711289859237\n",
      "   60 0.5622222222222222\n",
      "   61 0.5606019887127116\n",
      "   62 0.5624349635796047\n",
      "   63 0.5605946082136559\n",
      "   64 0.5625\n",
      "   65 0.5607100591715977\n",
      "   66 0.5624426078971534\n",
      "   67 0.5609267097349075\n",
      "   68 0.5622837370242215\n",
      "   69 0.561016593152699\n",
      "   70 0.5620408163265306\n",
      "   71 0.5609998016266615\n",
      "   72 0.5617283950617284\n",
      "   73 0.5608932257459187\n",
      "   74 0.5613586559532506\n",
      "   75 0.5607111111111112\n",
      "   76 0.5609418282548477\n",
      "   77 0.5604655085174567\n",
      "   78 0.5604865220249836\n",
      "   79 0.5601666399615447\n",
      "   80 0.56\n",
      "   81 0.5608901082152111\n",
      "   82 0.561570493753718\n",
      "   83 0.5620554507185369\n",
      "   84 0.562358276643991\n",
      "   85 0.5624913494809689\n",
      "   86 0.5624661979448351\n",
      "   87 0.5622935658607477\n",
      "   88 0.5619834710743802\n",
      "   89 0.5615452594369398\n",
      "   90 0.5609876543209877\n",
      "   91 0.560318802077044\n",
      "   92 0.5595463137996219\n",
      "   93 0.5586773037345358\n",
      "   94 0.5577184246265279\n",
      "   95 0.5566759002770085\n",
      "   96 0.5555555555555558\n",
      "   97 0.5560633436071848\n",
      "   98 0.5566430653894212\n",
      "   99 0.5569839812264057\n",
      "  100 0.5576000000000001\n",
      "  101 0.5577884521125381\n",
      "  102 0.5584390618992696\n",
      "  103 0.5584880761617496\n",
      "  104 0.5591715976331362\n",
      "  105 0.559092970521542\n",
      "  106 0.5598077607689569\n",
      "  107 0.5596121932046467\n",
      "  108 0.5603566529492456\n",
      "  109 0.5600538675195691\n",
      "  110 0.5608264462809918\n",
      "  111 0.56042529015502\n",
      "  112 0.5612244897959183\n",
      "  113 0.560733025295638\n",
      "  114 0.5615574022776239\n",
      "  115 0.5609829867674858\n",
      "  116 0.5618311533888228\n",
      "  117 0.5611805098984587\n",
      "  118 0.5620511347313991\n",
      "  119 0.5613304145187488\n",
      "  120 0.5622222222222222\n",
      "  121 0.5614370603100882\n",
      "  122 0.5623488309594196\n",
      "  123 0.5615043955317602\n",
      "  124 0.5624349635796047\n",
      "  125 0.561536\n",
      "  126 0.5624842529604435\n",
      "  127 0.5615351230702462\n",
      "  128 0.5625\n",
      "  129 0.561564809807103\n",
      "  130 0.5624852071005917\n",
      "  131 0.5616222830837364\n",
      "  132 0.5624426078971534\n",
      "  133 0.5616484821075245\n",
      "  134 0.5623746936957006\n",
      "  135 0.5616460905349795\n",
      "  136 0.5622837370242215\n",
      "  137 0.5616175608716502\n",
      "  138 0.5621718126444024\n",
      "  139 0.5615651363801046\n",
      "  140 0.5620408163265306\n",
      "  141 0.5614908706805493\n",
      "  142 0.5618924816504662\n",
      "  143 0.5613966453127293\n",
      "  144 0.5617283950617284\n",
      "  145 0.5612841854934603\n",
      "  146 0.5615500093826236\n",
      "  147 0.5611550742746079\n",
      "  148 0.5613586559532506\n",
      "  149 0.5610107652808434\n",
      "  150 0.5611555555555556\n",
      "  151 0.5608525941844658\n",
      "  152 0.5609418282548477\n",
      "  153 0.5606817890554916\n",
      "  154 0.560718502276944\n",
      "  155 0.560499479708637\n",
      "  156 0.5604865220249837\n",
      "  157 0.560306706154408\n",
      "  158 0.560246755327672\n",
      "  159 0.5601044262489618\n",
      "  160 0.56\n",
      "  161 0.5604722040044754\n",
      "  162 0.5608901082152111\n",
      "  163 0.5612555986299823\n",
      "  164 0.561570493753718\n",
      "  165 0.5618365472910929\n",
      "  166 0.5620554507185369\n",
      "  167 0.5622288357416904\n",
      "  168 0.562358276643991\n",
      "  169 0.5624452925317742\n",
      "  170 0.5624913494809689\n",
      "  171 0.5624978625901987\n",
      "  172 0.5624661979448351\n",
      "  173 0.562397674496308\n",
      "  174 0.5622935658607477\n",
      "  175 0.5621551020408164\n",
      "  176 0.5619834710743802\n",
      "  177 0.5617798206134892\n",
      "  178 0.5615452594369398\n",
      "  179 0.561280858899535\n",
      "  180 0.5609876543209877\n",
      "  181 0.5606666463172676\n",
      "  182 0.5603188020770439\n",
      "  183 0.5599450565857447\n",
      "  184 0.5595463137996219\n",
      "  185 0.5591234477720965\n",
      "  186 0.5586773037345358\n",
      "  187 0.5582086991335183\n",
      "  188 0.5577184246265279\n",
      "  189 0.5572072450379331\n",
      "  190 0.5566759002770085\n",
      "  191 0.5561251062196764\n",
      "  192 0.5555555555555558\n",
      "  193 0.5558270020671698\n",
      "  194 0.556116484217239\n",
      "  195 0.5563445101906643\n",
      "  196 0.5566430653894213\n",
      "  197 0.5568296013811231\n",
      "  198 0.5571370268339967\n",
      "  199 0.5572839069720463\n"
     ]
    }
   ],
   "source": [
    "for i in range(1, 200):\n",
    "    print(f'{i:5} {guess_who(i, i)}')\n"
   ]
  },
  {
   "cell_type": "code",
   "execution_count": 17,
   "metadata": {},
   "outputs": [],
   "source": [
    "import numpy as np"
   ]
  },
  {
   "cell_type": "code",
   "execution_count": 33,
   "metadata": {},
   "outputs": [],
   "source": [
    "results = np.zeros((5, 5))"
   ]
  },
  {
   "cell_type": "code",
   "execution_count": 34,
   "metadata": {},
   "outputs": [],
   "source": [
    "for a in range(1, 6):\n",
    "    for b in range(1, 6):\n",
    "        results[a-1, b-1] = guess_who(a, b)"
   ]
  },
  {
   "cell_type": "code",
   "execution_count": 32,
   "metadata": {},
   "outputs": [
    {
     "data": {
      "text/plain": [
       "array([[1.        , 1.        , 1.        , 1.        , 1.        ],\n",
       "       [0.5       , 0.5       , 0.66666667, 0.75      , 0.8       ],\n",
       "       [0.33333333, 0.5       , 0.55555556, 0.58333333, 0.66666667],\n",
       "       [0.25      , 0.5       , 0.5       , 0.5625    , 0.6       ],\n",
       "       [0.2       , 0.4       , 0.46666667, 0.5       , 0.56      ]])"
      ]
     },
     "execution_count": 32,
     "metadata": {},
     "output_type": "execute_result"
    }
   ],
   "source": [
    "results\n"
   ]
  },
  {
   "cell_type": "code",
   "execution_count": 125,
   "metadata": {},
   "outputs": [
    {
     "data": {
      "text/plain": [
       "0.5624640000000001"
      ]
     },
     "execution_count": 125,
     "metadata": {},
     "output_type": "execute_result"
    }
   ],
   "source": [
    "guess_who(500, 500)"
   ]
  },
  {
   "cell_type": "code",
   "execution_count": 106,
   "metadata": {},
   "outputs": [
    {
     "data": {
      "text/plain": [
       "0.4423999999999999"
      ]
     },
     "execution_count": 106,
     "metadata": {},
     "output_type": "execute_result"
    }
   ],
   "source": [
    "guess_who(200, 100)"
   ]
  },
  {
   "cell_type": "code",
   "execution_count": 126,
   "metadata": {},
   "outputs": [
    {
     "data": {
      "text/plain": [
       "398008"
      ]
     },
     "execution_count": 126,
     "metadata": {},
     "output_type": "execute_result"
    }
   ],
   "source": [
    "len(guess_who.__defaults__[0])"
   ]
  },
  {
   "cell_type": "code",
   "execution_count": 167,
   "metadata": {},
   "outputs": [],
   "source": [
    "mx = 100\n",
    "X, Y = np.meshgrid(range(1, mx+1), range(1, mx+1))\n",
    "Z = np.zeros((mx, mx))\n",
    "for i in range(mx):\n",
    "    for j in range(mx):\n",
    "        Z[i, j] = guess_who(i+1, j+1)"
   ]
  },
  {
   "cell_type": "code",
   "execution_count": 168,
   "metadata": {},
   "outputs": [
    {
     "data": {
      "image/png": "[encoded data removed]",
      "text/plain": [
       "<Figure size 576x576 with 1 Axes>"
      ]
     },
     "metadata": {
      "needs_background": "light"
     },
     "output_type": "display_data"
    }
   ],
   "source": [
    "fig, ax = plt.subplots(figsize=(8, 8))\n",
    "cs = ax.contour(X, Y, Z, levels=np.arange(0, 1, 0.1))\n",
    "ax.clabel(cs, fmt='%1.2f')\n",
    "ax.set_title('Probability of winning Guess Who')\n",
    "ax.set_ylabel('# options for current player')\n",
    "ax.set_xlabel('# options for opponent');\n",
    "plt.savefig(\"guess_who.png\")"
   ]
  },
  {
   "cell_type": "code",
   "execution_count": 159,
   "metadata": {},
   "outputs": [
    {
     "data": {
      "text/plain": [
       "0.5625"
      ]
     },
     "execution_count": 159,
     "metadata": {},
     "output_type": "execute_result"
    }
   ],
   "source": [
    "guess_who(4, 4)"
   ]
  },
  {
   "cell_type": "code",
   "execution_count": 160,
   "metadata": {},
   "outputs": [
    {
     "data": {
      "text/plain": [
       "0.5555555555555556"
      ]
     },
     "execution_count": 160,
     "metadata": {},
     "output_type": "execute_result"
    }
   ],
   "source": [
    "guess_who(24, 24)"
   ]
  },
  {
   "cell_type": "code",
   "execution_count": 161,
   "metadata": {},
   "outputs": [
    {
     "data": {
      "text/plain": [
       "0.5612244897959184"
      ]
     },
     "execution_count": 161,
     "metadata": {},
     "output_type": "execute_result"
    }
   ],
   "source": [
    "guess_who(14, 14)"
   ]
  },
  {
   "cell_type": "code",
   "execution_count": null,
   "metadata": {},
   "outputs": [],
   "source": []
  }
 ],
 "metadata": {
  "kernelspec": {
   "display_name": "Python 3",
   "language": "python",
   "name": "python3"
  },
  "language_info": {
   "codemirror_mode": {
    "name": "ipython",
    "version": 3
   },
   "file_extension": ".py",
   "mimetype": "text/x-python",
   "name": "python",
   "nbconvert_exporter": "python",
   "pygments_lexer": "ipython3",
   "version": "3.7.1"
  }
 },
 "nbformat": 4,
 "nbformat_minor": 4
}
