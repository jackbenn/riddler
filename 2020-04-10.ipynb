{
 "cells": [
  {
   "cell_type": "markdown",
   "metadata": {},
   "source": [
    "## Riddler Classic\n"
   ]
  },
  {
   "cell_type": "code",
   "execution_count": 225,
   "metadata": {},
   "outputs": [],
   "source": [
    "import numpy as np\n",
    "from scipy import stats"
   ]
  },
  {
   "cell_type": "code",
   "execution_count": 232,
   "metadata": {},
   "outputs": [],
   "source": [
    "n_trials = 10000 # number of simulations\n",
    "time_unit = 1/240 # size of slice in days (smaller is more accurate)\n",
    "length = 3        # number of days\n",
    "base_rate = 1     # expected comments / day\n",
    "\n",
    "n_time_slices = int(length / time_unit)\n",
    "rate = base_rate * time_unit\n",
    "\n",
    "counts = np.zeros((n_time_slices, n_trials),\n",
    "                  dtype='int64')\n",
    "counts[0] = 1  # the initial comment\n",
    "\n",
    "for t in range(n_time_slices):\n",
    "    counts[t+1:] += stats.bernoulli(rate*counts[t]).rvs((n_time_slices-t-1,\n",
    "                                                         n_trials))"
   ]
  },
  {
   "cell_type": "code",
   "execution_count": 233,
   "metadata": {},
   "outputs": [
    {
     "name": "stdout",
     "output_type": "stream",
     "text": [
      "average comments: 18.7302\n",
      "maximum comments: 168\n",
      "mimimum comments: 0\n"
     ]
    }
   ],
   "source": [
    "totals = counts[1:].sum(axis=0)\n",
    "\n",
    "print(f'average comments: {totals.mean()}')\n",
    "print(f'maximum comments: {totals.max()}')\n",
    "print(f'mimimum comments: {totals.min()}')"
   ]
  },
  {
   "cell_type": "code",
   "execution_count": 235,
   "metadata": {},
   "outputs": [
    {
     "name": "stdout",
     "output_type": "stream",
     "text": [
      "95% confidence: (18.3486 and 19.1133) \n"
     ]
    }
   ],
   "source": [
    "n_bootstraps = 10000\n",
    "indices = np.random.randint(0, n_trials, (n_bootstraps, n_trials))\n",
    "bootstrap_means = totals[indices].mean(axis=1)\n",
    "bootstrap_means.sort()\n",
    "print('95% confidence: ({} and {}) '.format(bootstrap_means[int(n_bootstraps*0.025)],\n",
    "                                            bootstrap_means[int(n_bootstraps*0.975)]))"
   ]
  },
  {
   "cell_type": "code",
   "execution_count": null,
   "metadata": {},
   "outputs": [],
   "source": []
  }
 ],
 "metadata": {
  "kernelspec": {
   "display_name": "Python 3",
   "language": "python",
   "name": "python3"
  },
  "language_info": {
   "codemirror_mode": {
    "name": "ipython",
    "version": 3
   },
   "file_extension": ".py",
   "mimetype": "text/x-python",
   "name": "python",
   "nbconvert_exporter": "python",
   "pygments_lexer": "ipython3",
   "version": "3.7.6"
  }
 },
 "nbformat": 4,
 "nbformat_minor": 4
}
