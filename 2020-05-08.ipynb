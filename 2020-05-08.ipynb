{
 "cells": [
  {
   "cell_type": "markdown",
   "metadata": {},
   "source": [
    "https://fivethirtyeight.com/features/can-you-eat-an-apple-like-a-toddler/"
   ]
  },
  {
   "cell_type": "code",
   "execution_count": null,
   "metadata": {},
   "outputs": [],
   "source": []
  },
  {
   "cell_type": "code",
   "execution_count": null,
   "metadata": {},
   "outputs": [],
   "source": []
  },
  {
   "cell_type": "markdown",
   "metadata": {},
   "source": [
    "## Riddler Classic"
   ]
  },
  {
   "cell_type": "markdown",
   "metadata": {},
   "source": [
    "Question: does the geometry matter at all, or is it just the area?\n",
    "\n",
    "Let's simplify it to a discrete apple with 4 pieces of skin (0, 1, 2, 3), with 2-piece bites. Consider two cases:\n",
    " * Bites are either (0,1) or (2,3)\n",
    " * Bites can be any pair of numbers"
   ]
  },
  {
   "cell_type": "code",
   "execution_count": 2,
   "metadata": {},
   "outputs": [],
   "source": [
    "import numpy as np\n",
    "import random"
   ]
  },
  {
   "cell_type": "code",
   "execution_count": 29,
   "metadata": {},
   "outputs": [
    {
     "name": "stdout",
     "output_type": "stream",
     "text": [
      "bite count 2.99259 for bites [[0 1]\n",
      " [2 3]]\n",
      "bite count 3.79144 for bites [[0 1]\n",
      " [0 2]\n",
      " [0 3]\n",
      " [1 2]\n",
      " [1 3]\n",
      " [2 3]]\n"
     ]
    }
   ],
   "source": [
    "n_trials = 100000\n",
    "bites_a = np.array([[0, 1], [2,3]])\n",
    "bites_b = np.array([[0,1], [0,2], [0,3], [1,2], [1,3], [2,3]])\n",
    "\n",
    "for bite_type in (bites_a, bites_b):\n",
    "    bite_count = []\n",
    "    for _ in range(n_trials):\n",
    "        skin = np.zeros(4)\n",
    "        bite_count.append(0)\n",
    "        while skin.min() == 0:\n",
    "            skin[random.choice(bite_type)] = 1\n",
    "            bite_count[-1] += 1\n",
    "    print(f\"bite count {np.mean(bite_count)} for bites {bite_type}\")"
   ]
  },
  {
   "cell_type": "markdown",
   "metadata": {},
   "source": [
    "Ok, that would have been too easy.\n",
    "\n",
    "Maybe it can be done as some sort of expansion, though."
   ]
  },
  {
   "cell_type": "code",
   "execution_count": null,
   "metadata": {},
   "outputs": [],
   "source": []
  }
 ],
 "metadata": {
  "kernelspec": {
   "display_name": "Python 3",
   "language": "python",
   "name": "python3"
  },
  "language_info": {
   "codemirror_mode": {
    "name": "ipython",
    "version": 3
   },
   "file_extension": ".py",
   "mimetype": "text/x-python",
   "name": "python",
   "nbconvert_exporter": "python",
   "pygments_lexer": "ipython3",
   "version": "3.7.6"
  }
 },
 "nbformat": 4,
 "nbformat_minor": 4
}
