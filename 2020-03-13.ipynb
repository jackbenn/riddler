{
 "cells": [
  {
   "cell_type": "code",
   "execution_count": 49,
   "metadata": {},
   "outputs": [],
   "source": [
    "import numpy as np\n",
    "from scipy import stats\n",
    "import itertools"
   ]
  },
  {
   "cell_type": "markdown",
   "metadata": {},
   "source": [
    "## Riddler Express"
   ]
  },
  {
   "cell_type": "code",
   "execution_count": 28,
   "metadata": {},
   "outputs": [],
   "source": [
    "npts = 1000\n",
    "log2 = np.log(2) / np.log(10)\n",
    "log = 0\n",
    "diffs = np.zeros(npts)\n",
    "for exp in range(npts):\n",
    "    diff = log - np.round(log)\n",
    "    diffs[exp] = np.abs(diff)\n",
    "    log += log2\n",
    "    "
   ]
  },
  {
   "cell_type": "code",
   "execution_count": 31,
   "metadata": {},
   "outputs": [
    {
     "data": {
      "text/plain": [
       "(array([  0,  10,  93, 103, 186, 196, 289, 299, 382, 392, 485, 495, 578,\n",
       "        588, 671, 681, 774, 784, 867, 877, 970, 980]),)"
      ]
     },
     "execution_count": 31,
     "metadata": {},
     "output_type": "execute_result"
    }
   ],
   "source": [
    "np.where(diffs <= diffs[10])"
   ]
  },
  {
   "cell_type": "code",
   "execution_count": 33,
   "metadata": {},
   "outputs": [
    {
     "data": {
      "text/plain": [
       "array([0.        , 0.01029996, 0.0042104 , 0.00608955, 0.00842081,\n",
       "       0.00187915, 0.00233125, 0.0079687 , 0.00654166, 0.0037583 ,\n",
       "       0.0004521 , 0.00984785, 0.00466251, 0.00563745, 0.00887291,\n",
       "       0.00142705, 0.00278336, 0.0075166 , 0.00699376, 0.0033062 ,\n",
       "       0.00090421, 0.00939575])"
      ]
     },
     "execution_count": 33,
     "metadata": {},
     "output_type": "execute_result"
    }
   ],
   "source": [
    "diffs[np.where(diffs <= diffs[10])]"
   ]
  },
  {
   "cell_type": "code",
   "execution_count": 37,
   "metadata": {},
   "outputs": [
    {
     "data": {
      "text/plain": [
       "0.9903520314283042"
      ]
     },
     "execution_count": 37,
     "metadata": {},
     "output_type": "execute_result"
    }
   ],
   "source": [
    "2**93 / 10**28"
   ]
  },
  {
   "cell_type": "code",
   "execution_count": 43,
   "metadata": {},
   "outputs": [
    {
     "data": {
      "text/plain": [
       "1.004336277661869"
      ]
     },
     "execution_count": 43,
     "metadata": {},
     "output_type": "execute_result"
    }
   ],
   "source": [
    "2**196 / 10**59"
   ]
  },
  {
   "cell_type": "code",
   "execution_count": 47,
   "metadata": {},
   "outputs": [
    {
     "data": {
      "text/plain": [
       "0.9989595361011175"
      ]
     },
     "execution_count": 47,
     "metadata": {},
     "output_type": "execute_result"
    }
   ],
   "source": [
    "2**485 / 10**146"
   ]
  },
  {
   "cell_type": "markdown",
   "metadata": {},
   "source": [
    "## Riddler Classic"
   ]
  },
  {
   "cell_type": "code",
   "execution_count": 79,
   "metadata": {},
   "outputs": [
    {
     "name": "stdout",
     "output_type": "stream",
     "text": [
      "0.6683\n"
     ]
    }
   ],
   "source": [
    "nppl = 102\n",
    "ntrials = 10000\n",
    "\n",
    "waits = 0\n",
    "for _ in range(ntrials):\n",
    "    queue = list(stats.bernoulli(0.25).rvs(nppl))\n",
    "    for s in itertools.cycle(range(3)):\n",
    "        #print(s, queue)\n",
    "        if len(queue) == 1:\n",
    "            if queue[0] == 1:\n",
    "                waits += 1\n",
    "            break\n",
    "        if s == 0:\n",
    "            queue.pop(0)\n",
    "        else:\n",
    "            if min(queue) == 0:\n",
    "                queue.pop(queue.index(0))\n",
    "            else:\n",
    "                continue\n",
    "print(waits/ntrials)"
   ]
  },
  {
   "cell_type": "code",
   "execution_count": null,
   "metadata": {},
   "outputs": [],
   "source": []
  },
  {
   "cell_type": "code",
   "execution_count": null,
   "metadata": {},
   "outputs": [],
   "source": []
  }
 ],
 "metadata": {
  "kernelspec": {
   "display_name": "Python 3",
   "language": "python",
   "name": "python3"
  },
  "language_info": {
   "codemirror_mode": {
    "name": "ipython",
    "version": 3
   },
   "file_extension": ".py",
   "mimetype": "text/x-python",
   "name": "python",
   "nbconvert_exporter": "python",
   "pygments_lexer": "ipython3",
   "version": "3.7.1"
  }
 },
 "nbformat": 4,
 "nbformat_minor": 4
}
