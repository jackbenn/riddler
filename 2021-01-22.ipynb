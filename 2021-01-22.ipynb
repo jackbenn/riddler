{
 "cells": [
  {
   "cell_type": "markdown",
   "metadata": {},
   "source": [
    "https://fivethirtyeight.com/features/can-you-skillfully-ski-the-slopes/"
   ]
  },
  {
   "cell_type": "markdown",
   "metadata": {},
   "source": [
    "# Riddler Express"
   ]
  },
  {
   "cell_type": "markdown",
   "metadata": {},
   "source": [
    "# Riddler Classic\n",
    "\n",
    "First, a simulation."
   ]
  },
  {
   "cell_type": "code",
   "execution_count": 1,
   "metadata": {},
   "outputs": [],
   "source": [
    "from scipy import stats"
   ]
  },
  {
   "cell_type": "code",
   "execution_count": 49,
   "metadata": {},
   "outputs": [],
   "source": [
    "# your runs are rows 0 and 1; your opponent's are rows 2 and 3\n",
    "n_trials = 10000000\n",
    "results = stats.norm(0, 1).rvs((4, n_trials))"
   ]
  },
  {
   "cell_type": "code",
   "execution_count": 50,
   "metadata": {},
   "outputs": [],
   "source": [
    "win_first = results[:, results[0] > results[2]]"
   ]
  },
  {
   "cell_type": "code",
   "execution_count": 51,
   "metadata": {},
   "outputs": [
    {
     "data": {
      "text/plain": [
       "0.7501360428985607"
      ]
     },
     "execution_count": 51,
     "metadata": {},
     "output_type": "execute_result"
    }
   ],
   "source": [
    "wins = (win_first[0] + win_first[1] >  win_first[2] + win_first[3]).sum()\n",
    "wins / win_first.shape[1]"
   ]
  },
  {
   "cell_type": "markdown",
   "metadata": {},
   "source": [
    "That's suspiciously close to .75.\n",
    "\n",
    "Does the distribution matter?"
   ]
  },
  {
   "cell_type": "code",
   "execution_count": 54,
   "metadata": {},
   "outputs": [
    {
     "data": {
      "text/plain": [
       "0.7499962015315425"
      ]
     },
     "execution_count": 54,
     "metadata": {},
     "output_type": "execute_result"
    }
   ],
   "source": [
    "n_trials = 10000000\n",
    "#results = stats.uniform(0, 1).rvs((4, n_trials))\n",
    "results = stats.expon(1).rvs((4, n_trials))\n",
    "\n",
    "win_first = results[:, results[0] > results[2]]\n",
    "\n",
    "wins = (win_first[0] + win_first[1] >  win_first[2] + win_first[3]).sum()\n",
    "wins / win_first.shape[1]"
   ]
  },
  {
   "cell_type": "markdown",
   "metadata": {},
   "source": [
    "Maybe not (as long as it's uniform)."
   ]
  },
  {
   "cell_type": "markdown",
   "metadata": {},
   "source": [
    "So let's solve this by just looking at the options.\n",
    "\n",
    "Let's call the 4 times S1, S2, O1, O2 (for self and other).\n",
    "\n",
    "The options are:\n",
    "\n",
    " * 0.25 S1, S2 > O1, O2\n",
    " * 0.25 S1, S2 < O1, O2   X\n",
    " * 0.125 S1 > O1, O2 > S2\n",
    " \n",
    " * 0.125 S2 > O1, O2 > S1 X\n",
    " * 0.125 O1 > S1, S2 > O2 X\n",
    " * 0.125 O2 > S1, S2 > O1\n",
    "\n"
   ]
  },
  {
   "cell_type": "code",
   "execution_count": null,
   "metadata": {},
   "outputs": [],
   "source": []
  }
 ],
 "metadata": {
  "kernelspec": {
   "display_name": "Python 3",
   "language": "python",
   "name": "python3"
  },
  "language_info": {
   "codemirror_mode": {
    "name": "ipython",
    "version": 3
   },
   "file_extension": ".py",
   "mimetype": "text/x-python",
   "name": "python",
   "nbconvert_exporter": "python",
   "pygments_lexer": "ipython3",
   "version": "3.7.7"
  }
 },
 "nbformat": 4,
 "nbformat_minor": 4
}
