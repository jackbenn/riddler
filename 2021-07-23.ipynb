{
 "cells": [
  {
   "cell_type": "markdown",
   "id": "5e9eaa51",
   "metadata": {},
   "source": [
    "https://fivethirtyeight.com/features/can-you-hop-across-the-chessboard/"
   ]
  },
  {
   "cell_type": "markdown",
   "id": "f5236783",
   "metadata": {},
   "source": [
    "## Riddler express"
   ]
  },
  {
   "cell_type": "markdown",
   "id": "04b9d3bf",
   "metadata": {},
   "source": [
    "Doing a breadth-first backwards search, starting at the end. `-` is a black piece, `H` is the start, the `K`'s are the target, and the numbers are the distance to the end."
   ]
  },
  {
   "cell_type": "markdown",
   "id": "274c4f23",
   "metadata": {},
   "source": [
    "|   |   |   |   |   |   |   |   |\n",
    "|---|---|---|---|---|---|---|---|\n",
    "| K | - | 3 | - | K | 1 |   |   |\n",
    "| 4 | 2 | 1 | 2 | 2 |   | K |   |\n",
    "| 5 | - | 3 | - | 3 | 2 |   |   |\n",
    "| - | - |   |   | - | 1 | - | - |\n",
    "|   | 4 | 6 |   | - |   |   |   |\n",
    "| 5 | 5 |   | 7 | - |   |   |   |\n",
    "| - | - |   |   | H |   |   |   |\n",
    "| K |   |   |   |   |   |   |   |"
   ]
  },
  {
   "cell_type": "markdown",
   "id": "af8db306",
   "metadata": {},
   "source": [
    "It might be easier going the other way, though."
   ]
  },
  {
   "cell_type": "markdown",
   "id": "f5ff22d4",
   "metadata": {},
   "source": [
    "|   |   |   |   |   |   |   |   |\n",
    "|---|---|---|---|---|---|---|---|\n",
    "| K | - | 7 | - | K | 9 |   |   |\n",
    "| 6 | 8 |   | 8 | 8 |   | K |   |\n",
    "| 5 | - | 7 | - |   | 9 |   |   |\n",
    "| - | - | 4 | 3 | - |   | - | - |\n",
    "| 3 | 4 | 2 | 2 | - | 5 | 4 | 2 |\n",
    "| 3 | 4 | 2 | 1 | - | 1 | 3 | 3 |\n",
    "| - | - | 4 | 2 | 0 | 2 | 3 | 2 |\n",
    "| K | 3 | 5 | 1 | 2 | 1 | 2 | 3 |"
   ]
  },
  {
   "cell_type": "markdown",
   "id": "3796a85e",
   "metadata": {},
   "source": [
    "Oops, one of those is a bit off. The second was easier to do, since it's easier to check places a piece can go to than those that attack it."
   ]
  },
  {
   "cell_type": "markdown",
   "id": "1d7e67c7",
   "metadata": {},
   "source": [
    "## Riddler Classic"
   ]
  },
  {
   "cell_type": "code",
   "execution_count": null,
   "id": "c404cd3c",
   "metadata": {},
   "outputs": [],
   "source": []
  }
 ],
 "metadata": {
  "kernelspec": {
   "display_name": "Python 3",
   "language": "python",
   "name": "python3"
  },
  "language_info": {
   "codemirror_mode": {
    "name": "ipython",
    "version": 3
   },
   "file_extension": ".py",
   "mimetype": "text/x-python",
   "name": "python",
   "nbconvert_exporter": "python",
   "pygments_lexer": "ipython3",
   "version": "3.8.8"
  }
 },
 "nbformat": 4,
 "nbformat_minor": 5
}
