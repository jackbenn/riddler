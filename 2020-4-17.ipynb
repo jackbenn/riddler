{
 "cells": [
  {
   "cell_type": "markdown",
   "metadata": {},
   "source": [
    "https://fivethirtyeight.com/features/can-you-solve-the-chess-mystery/"
   ]
  },
  {
   "cell_type": "markdown",
   "metadata": {},
   "source": [
    "## Riddler Express\n",
    "\n",
    "The trick is that it's the king-side knight that did it, and the queen-side knight moved into their place. So the king's knight did\n",
    "\n",
    "N-KB3\n",
    "N-Q4\n",
    "N-QN5\n",
    "N-QB6\n",
    "N-QR5\n",
    "N-QB6\n",
    "N-QR5\n",
    "N-QB6\n",
    "NxN\n",
    "\n",
    "while the other one did\n",
    "N-QB3\n",
    "N-K4\n",
    "N-KN5\n",
    "N-KB3\n",
    "N-KN1\n",
    "\n",
    "and then black did\n",
    "N-KR3\n",
    "N-KN1\n",
    "\n",
    "back and forth the whole time.\n",
    "\n",
    "There aren't any overlapping spots except the first couple, so the order of the white moves is pretty trivial."
   ]
  },
  {
   "cell_type": "markdown",
   "metadata": {},
   "source": [
    "## Riddler Classic"
   ]
  },
  {
   "cell_type": "code",
   "execution_count": 1,
   "metadata": {},
   "outputs": [],
   "source": [
    "import numpy as np"
   ]
  },
  {
   "cell_type": "code",
   "execution_count": 2,
   "metadata": {},
   "outputs": [],
   "source": [
    "def count_neighbors(a):\n",
    "    count = np.zeros_like(a)\n",
    "    for offset in [(-1, -1),\n",
    "                   (-1, 0),\n",
    "                   (-1, 1),\n",
    "                   (0, -1),\n",
    "                   (0, 1),\n",
    "                   (1, -1),\n",
    "                   (1, 0),\n",
    "                   (1, 1)]:\n",
    "        count += np.roll(a, offset, (0, 1))\n",
    "    return count\n",
    "\n",
    "def update(a):\n",
    "    c = count_neighbors(a)\n",
    "    return (c==3) | ((c==2) & a)"
   ]
  },
  {
   "cell_type": "code",
   "execution_count": 3,
   "metadata": {},
   "outputs": [],
   "source": [
    "def numify_array(a):\n",
    "    result = 0\n",
    "    for b in a.flatten():\n",
    "        result *= 2\n",
    "        result += b\n",
    "    return result\n",
    "\n",
    "def arrayify_number(n, shape):\n",
    "    a = np.zeros(shape[0] * shape[1], dtype=int)\n",
    "    for i in range(len(a)-1, -1, -1):\n",
    "        if n % 2:\n",
    "            a[i] = 1\n",
    "        n //= 2\n",
    "    return a.reshape(shape)"
   ]
  },
  {
   "cell_type": "code",
   "execution_count": 4,
   "metadata": {},
   "outputs": [],
   "source": [
    "def get_nexts(shape):\n",
    "    n_options = 2 ** (shape[0]*shape[1])\n",
    "    nexts = np.zeros(n_options, dtype=int)\n",
    "    for i in range(n_options):\n",
    "        a = arrayify_number(i, shape)\n",
    "        nexts[i] = numify_array(update(a))\n",
    "    return nexts"
   ]
  },
  {
   "cell_type": "code",
   "execution_count": null,
   "metadata": {},
   "outputs": [],
   "source": []
  },
  {
   "cell_type": "code",
   "execution_count": 5,
   "metadata": {},
   "outputs": [],
   "source": [
    "def find_paths(nexts):\n",
    "    d = {}\n",
    "    for i in range(len(nexts)):\n",
    "        d[i] = [i]\n",
    "        current = i\n",
    "        while nexts[current] not in d[i]:\n",
    "            current = nexts[current]\n",
    "            d[i].append(current)\n",
    "        d[i].append(nexts[current])\n",
    "    return d\n",
    "\n",
    "def find_cycles(d):\n",
    "    for k, v in d.items():\n",
    "        if v[-1] != v[-2]:\n",
    "            print(k, v)"
   ]
  },
  {
   "cell_type": "code",
   "execution_count": 6,
   "metadata": {
    "scrolled": false
   },
   "outputs": [
    {
     "name": "stdout",
     "output_type": "stream",
     "text": [
      "Trying length 1\n",
      "Trying length 2\n",
      "Trying length 3\n",
      "Trying length 4\n",
      "19 [19, 819, 3276, 819]\n",
      "25 [25, 2457, 1638, 2457]\n",
      "35 [35, 819, 3276, 819]\n",
      "38 [38, 1638, 2457, 1638]\n",
      "49 [49, 819, 3276, 819]\n",
      "50 [50, 819, 3276, 819]\n",
      "70 [70, 1638, 2457, 1638]\n",
      "76 [76, 3276, 819, 3276]\n",
      "98 [98, 1638, 2457, 1638]\n",
      "100 [100, 1638, 2457, 1638]\n",
      "137 [137, 2457, 1638, 2457]\n",
      "140 [140, 3276, 819, 3276]\n",
      "145 [145, 2457, 1638, 2457]\n",
      "152 [152, 2457, 1638, 2457]\n",
      "196 [196, 3276, 819, 3276]\n",
      "200 [200, 3276, 819, 3276]\n",
      "259 [259, 819, 3276, 819]\n",
      "265 [265, 2457, 1638, 2457]\n",
      "274 [274, 819, 3276, 819]\n",
      "280 [280, 2457, 1638, 2457]\n",
      "289 [289, 819, 3276, 819]\n",
      "290 [290, 819, 3276, 819]\n",
      "304 [304, 819, 3276, 819]\n",
      "385 [385, 2457, 1638, 2457]\n",
      "392 [392, 2457, 1638, 2457]\n",
      "400 [400, 2457, 1638, 2457]\n",
      "515 [515, 819, 3276, 819]\n",
      "518 [518, 1638, 2457, 1638]\n",
      "529 [529, 819, 3276, 819]\n",
      "530 [530, 819, 3276, 819]\n",
      "545 [545, 819, 3276, 819]\n",
      "548 [548, 1638, 2457, 1638]\n",
      "560 [560, 819, 3276, 819]\n",
      "578 [578, 1638, 2457, 1638]\n",
      "580 [580, 1638, 2457, 1638]\n",
      "608 [608, 1638, 2457, 1638]\n",
      "769 [769, 819, 3276, 819]\n",
      "770 [770, 819, 3276, 819]\n",
      "784 [784, 819, 3276, 819]\n",
      "800 [800, 819, 3276, 819]\n",
      "819 [819, 3276, 819]\n",
      "1030 [1030, 1638, 2457, 1638]\n",
      "1036 [1036, 3276, 819, 3276]\n",
      "1058 [1058, 1638, 2457, 1638]\n",
      "1060 [1060, 1638, 2457, 1638]\n",
      "1090 [1090, 1638, 2457, 1638]\n",
      "1096 [1096, 3276, 819, 3276]\n",
      "1120 [1120, 1638, 2457, 1638]\n",
      "1156 [1156, 3276, 819, 3276]\n",
      "1160 [1160, 3276, 819, 3276]\n",
      "1216 [1216, 3276, 819, 3276]\n",
      "1538 [1538, 1638, 2457, 1638]\n",
      "1540 [1540, 1638, 2457, 1638]\n",
      "1568 [1568, 1638, 2457, 1638]\n",
      "1600 [1600, 1638, 2457, 1638]\n",
      "1638 [1638, 2457, 1638]\n",
      "2057 [2057, 2457, 1638, 2457]\n",
      "2060 [2060, 3276, 819, 3276]\n",
      "2065 [2065, 2457, 1638, 2457]\n",
      "2072 [2072, 2457, 1638, 2457]\n",
      "2116 [2116, 3276, 819, 3276]\n",
      "2120 [2120, 3276, 819, 3276]\n",
      "2177 [2177, 2457, 1638, 2457]\n",
      "2180 [2180, 3276, 819, 3276]\n",
      "2192 [2192, 2457, 1638, 2457]\n",
      "2240 [2240, 3276, 819, 3276]\n",
      "2305 [2305, 2457, 1638, 2457]\n",
      "2312 [2312, 2457, 1638, 2457]\n",
      "2320 [2320, 2457, 1638, 2457]\n",
      "2432 [2432, 2457, 1638, 2457]\n",
      "2457 [2457, 1638, 2457]\n",
      "3076 [3076, 3276, 819, 3276]\n",
      "3080 [3080, 3276, 819, 3276]\n",
      "3136 [3136, 3276, 819, 3276]\n",
      "3200 [3200, 3276, 819, 3276]\n",
      "3276 [3276, 819, 3276]\n",
      "Trying length 5\n"
     ]
    }
   ],
   "source": [
    "for length in range(1, 6):\n",
    "    print(f\"Trying length {length}\")\n",
    "    shape = (3, length)\n",
    "    nexts = get_nexts(shape)\n",
    "    paths = find_paths(nexts)\n",
    "    find_cycles(paths)"
   ]
  },
  {
   "cell_type": "code",
   "execution_count": 7,
   "metadata": {},
   "outputs": [
    {
     "data": {
      "text/plain": [
       "array([[0, 0, 1, 1],\n",
       "       [0, 0, 1, 1],\n",
       "       [0, 0, 1, 1]])"
      ]
     },
     "execution_count": 7,
     "metadata": {},
     "output_type": "execute_result"
    }
   ],
   "source": [
    "# 819, 3276\n",
    "arrayify_number(819, (3,4))"
   ]
  },
  {
   "cell_type": "code",
   "execution_count": 8,
   "metadata": {},
   "outputs": [
    {
     "data": {
      "text/plain": [
       "array([[1, 1, 0, 0],\n",
       "       [1, 1, 0, 0],\n",
       "       [1, 1, 0, 0]])"
      ]
     },
     "execution_count": 8,
     "metadata": {},
     "output_type": "execute_result"
    }
   ],
   "source": [
    "arrayify_number(3276, (3,4))"
   ]
  },
  {
   "cell_type": "markdown",
   "metadata": {},
   "source": [
    "So the answer is N=4."
   ]
  },
  {
   "cell_type": "code",
   "execution_count": null,
   "metadata": {},
   "outputs": [],
   "source": []
  }
 ],
 "metadata": {
  "kernelspec": {
   "display_name": "Python 3",
   "language": "python",
   "name": "python3"
  },
  "language_info": {
   "codemirror_mode": {
    "name": "ipython",
    "version": 3
   },
   "file_extension": ".py",
   "mimetype": "text/x-python",
   "name": "python",
   "nbconvert_exporter": "python",
   "pygments_lexer": "ipython3",
   "version": "3.7.6"
  }
 },
 "nbformat": 4,
 "nbformat_minor": 4
}
