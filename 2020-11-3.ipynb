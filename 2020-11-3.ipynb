{
 "cells": [
  {
   "cell_type": "markdown",
   "metadata": {},
   "source": [
    "https://fivethirtyeight.com/features/can-you-make-an-unfair-coin-fair/"
   ]
  },
  {
   "cell_type": "markdown",
   "metadata": {},
   "source": [
    "# Riddler Classic"
   ]
  },
  {
   "cell_type": "markdown",
   "metadata": {},
   "source": [
    "We can make 50% if some combination of the outcome add to 0.5\n",
    "\n",
    "The outcomes below; let's give them names to make it easier.\n",
    "\n",
    "$$\n",
    "a = p^3 \\\\\n",
    "b = p^2 (1-p) \\;\\; (\\times 3)\\\\\n",
    "c = p (1-p)^2 \\;\\; (\\times 3)\\\\\n",
    "d = (1-p)^3\n",
    "$$\n",
    "\n",
    "Fortunately some are the same, the there aren't all the $2^8 - 2$ (the $-2$ is to remove the all or none)\n",
    "\n",
    "So the things that can add to 0.5 are\n",
    "$$\n",
    "a \\\\\n",
    "b \\\\\n",
    "2b \\\\\n",
    "3b \\\\\n",
    "a + b \\\\\n",
    "a + 2b \\\\\n",
    "a + 3b \\\\\n",
    "c \\\\\n",
    "2c \\\\\n",
    "3c \\\\\n",
    "a + c \\\\\n",
    "a + 2c \\\\\n",
    "a + 3c \\\\\n",
    "$$\n",
    "Ok, there's a lot.\n",
    "\n",
    "It should be $2 \\cdot 4 \\cdot 4 \\cdot 2 - 2 = 62$"
   ]
  },
  {
   "cell_type": "code",
   "execution_count": null,
   "metadata": {},
   "outputs": [],
   "source": []
  }
 ],
 "metadata": {
  "kernelspec": {
   "display_name": "Python 3",
   "language": "python",
   "name": "python3"
  },
  "language_info": {
   "codemirror_mode": {
    "name": "ipython",
    "version": 3
   },
   "file_extension": ".py",
   "mimetype": "text/x-python",
   "name": "python",
   "nbconvert_exporter": "python",
   "pygments_lexer": "ipython3",
   "version": "3.7.7"
  }
 },
 "nbformat": 4,
 "nbformat_minor": 4
}
