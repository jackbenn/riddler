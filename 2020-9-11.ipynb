{
 "cells": [
  {
   "cell_type": "markdown",
   "metadata": {},
   "source": [
    "https://fivethirtyeight.com/features/can-you-reach-the-summit-first/"
   ]
  },
  {
   "cell_type": "code",
   "execution_count": 1,
   "metadata": {},
   "outputs": [],
   "source": [
    "import numpy as np\n",
    "import matplotlib.pyplot as plt\n",
    "%matplotlib inline"
   ]
  },
  {
   "cell_type": "markdown",
   "metadata": {},
   "source": [
    "# Riddler Express\n",
    "\n",
    "Possible options\n",
    "\n",
    "sizes | ways to achieve (of 125)\n",
    "------|-----------------------\n",
    "5-3-2 | 6\n",
    "5-4-1 | 6\n",
    "4-2-2 | 3\n",
    "4-3-1 | 6\n",
    "3-2-1 | 6\n",
    "2-1-1 | 3\n",
    "total | 30\n",
    "\n",
    "So the answer is 30/125 = 6/25\n",
    "\n",
    "### Extra credit\n",
    "\n",
    "Considering various other maximums just changes the cutoff\n",
    "\n",
    "sizes | ways to achieve | maximum | probability\n",
    "------|-----------------|---------|------------\n",
    "2-1-1 | 3 | 2 | 3/8\n",
    "3-2-1 | 6 | 3 | 9/27 = 1/3\n",
    "4-2-2 | 3\n",
    "4-3-1 | 6 | 4 | 18/64 = 9/32\n",
    "5-3-2 | 6\n",
    "5-4-1 | 6 | 5 | 30/125 = 6/25\n",
    "6-3-3 | 3\n",
    "6-4-2 | 6\n",
    "6-5-1 | 6 | 6 | 45/216 = 5/24\n",
    "7-4-3 | 6\n",
    "7-5-2 | 6\n",
    "7-6-1 | 6 | 7 | 63/343 = 9/49\n",
    "\n",
    "In general, this goes to $3n(n-1) \\over 2$, so the probability is $3(n-1) \\over n^2$"
   ]
  },
  {
   "cell_type": "code",
   "execution_count": 2,
   "metadata": {},
   "outputs": [
    {
     "data": {
      "text/plain": [
       "(0.0, 0.3462603878116343)"
      ]
     },
     "execution_count": 2,
     "metadata": {},
     "output_type": "execute_result"
    },
    {
     "data": {
      "image/png": "[encoded data removed]",
      "text/plain": [
       "<Figure size 432x288 with 1 Axes>"
      ]
     },
     "metadata": {
      "needs_background": "light"
     },
     "output_type": "display_data"
    }
   ],
   "source": [
    "fig, ax = plt.subplots()\n",
    "n = np.arange(3, 20)\n",
    "prob = 3*(n-1)/2 / n**2\n",
    "ax.scatter(n, prob)\n",
    "ax.set_xlabel(\"Maximum player per town\")\n",
    "ax.set_ylabel(\"Probabilty of equal split\")\n",
    "ax.set_ylim(bottom=0)"
   ]
  },
  {
   "cell_type": "code",
   "execution_count": null,
   "metadata": {},
   "outputs": [],
   "source": []
  },
  {
   "cell_type": "markdown",
   "metadata": {},
   "source": [
    "# Riddler Classic\n",
    "\n",
    "First, consider the possible ordering of actual speed. Assume you are team A, and pair is B and C, and the other rider is D. So there are 24 orderings of speed, which lead to actual orderings, and your points.\n",
    "\n",
    "```\n",
    "ABCD ABCD 5\n",
    "ABDC ABCD 5\n",
    "ACBD ACBD 5\n",
    "ACDB ACBD 5\n",
    "ADBC ADBC 5\n",
    "ADCB ADCB 5\n",
    "BACD BCAD 2\n",
    "BADC BCAD 2\n",
    "BCAD BCAD 2\n",
    "BCDA BCDA 1\n",
    "BDAC BCDA 1\n",
    "BDCA BCDA 1\n",
    "CABD CBAD 2\n",
    "CADB CBAD 2\n",
    "CBAD CBAD 2\n",
    "CBDA CBDA 1\n",
    "CDAB CBDA 1\n",
    "CDBA CBDA 1\n",
    "DABC DABC 3\n",
    "DACB DACB 3\n",
    "DBAC DBCA 1\n",
    "DBCA DBCA 1\n",
    "DCAB DCBA 1\n",
    "DCBA DCBA 1\n",
    "```\n",
    "That has an expectation value of 58/24 (compared to 66/24 without the drafting)"
   ]
  },
  {
   "cell_type": "code",
   "execution_count": 3,
   "metadata": {},
   "outputs": [
    {
     "data": {
      "text/plain": [
       "2.4166666666666665"
      ]
     },
     "execution_count": 3,
     "metadata": {},
     "output_type": "execute_result"
    }
   ],
   "source": [
    "58/24"
   ]
  },
  {
   "cell_type": "code",
   "execution_count": 4,
   "metadata": {},
   "outputs": [
    {
     "data": {
      "text/plain": [
       "2.75"
      ]
     },
     "execution_count": 4,
     "metadata": {},
     "output_type": "execute_result"
    }
   ],
   "source": [
    "66/24"
   ]
  },
  {
   "cell_type": "markdown",
   "metadata": {},
   "source": [
    "If wouldn't be too hard to do an extra credit for this either :)"
   ]
  },
  {
   "cell_type": "code",
   "execution_count": null,
   "metadata": {},
   "outputs": [],
   "source": []
  }
 ],
 "metadata": {
  "kernelspec": {
   "display_name": "Python 3",
   "language": "python",
   "name": "python3"
  },
  "language_info": {
   "codemirror_mode": {
    "name": "ipython",
    "version": 3
   },
   "file_extension": ".py",
   "mimetype": "text/x-python",
   "name": "python",
   "nbconvert_exporter": "python",
   "pygments_lexer": "ipython3",
   "version": "3.7.7"
  }
 },
 "nbformat": 4,
 "nbformat_minor": 4
}
