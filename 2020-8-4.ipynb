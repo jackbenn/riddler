{
 "cells": [
  {
   "cell_type": "markdown",
   "metadata": {},
   "source": [
    "https://fivethirtyeight.com/features/can-you-reach-the-beach/"
   ]
  },
  {
   "cell_type": "markdown",
   "metadata": {},
   "source": [
    "# Riddler Express"
   ]
  },
  {
   "cell_type": "markdown",
   "metadata": {},
   "source": [
    "For a rectangle, it's"
   ]
  },
  {
   "cell_type": "code",
   "execution_count": 15,
   "metadata": {},
   "outputs": [],
   "source": [
    "import matplotlib.pyplot as plt\n",
    "from matplotlib.patches import Rectangle\n",
    "%matplotlib inline"
   ]
  },
  {
   "cell_type": "code",
   "execution_count": 38,
   "metadata": {},
   "outputs": [
    {
     "data": {
      "text/plain": [
       "(-0.5, 3.5)"
      ]
     },
     "execution_count": 38,
     "metadata": {},
     "output_type": "execute_result"
    },
    {
     "data": {
      "image/png": "[encoded data removed]",
      "text/plain": [
       "<Figure size 720x432 with 1 Axes>"
      ]
     },
     "metadata": {
      "needs_background": "light"
     },
     "output_type": "display_data"
    }
   ],
   "source": [
    "fig, ax = plt.subplots(figsize=(10, 6))\n",
    "ax.axis('equal')\n",
    "ax.axis('off')\n",
    "rect = Rectangle((0, 0), 3, 2, fill=False, ec='b')\n",
    "ax.add_patch(rect)\n",
    "ax.plot([0, 1], [0, 1], 'k')\n",
    "ax.plot([0, 1], [2, 1], 'k')\n",
    "ax.plot([1, 2], [1, 1], 'k')\n",
    "ax.plot([2, 3], [1, 2], 'k')\n",
    "ax.plot([2, 3], [1, 0], 'k')\n",
    "\n",
    "ax.set_ylim(-0.5, 2.5)\n",
    "ax.set_xlim(-0.5, 3.5)"
   ]
  },
  {
   "cell_type": "markdown",
   "metadata": {},
   "source": [
    "# Riddler classic"
   ]
  },
  {
   "cell_type": "markdown",
   "metadata": {},
   "source": [
    "Various options\n",
    "\n",
    "Start | 2  | 3  | 4  | 5  | 6  | 7  | 8  | 9\n",
    "------|----|----|----|----|----|----|----|---\n",
    "2     | 1/2 | 1/2 |\n",
    "3     |     | 1/2 | 1/2 |\n",
    "4     |     |     | 1/4 | 1/2 | 1/4\n",
    "5     |     |     |     | 1/4 | 1/2 | 1/4\n",
    "6     |     |     |     |     | 1/8 | 3/8 | 3/8 | 1/8\n",
    "\n",
    "\n",
    "```\n",
    "time 0: 1 2\n",
    "time 1: 1/2 2  1/2 3\n",
    "time 2: 1/4 2  1/2 3 1/2 4\n",
    "time 3: 1/8 2  \n",
    "```"
   ]
  },
  {
   "cell_type": "code",
   "execution_count": null,
   "metadata": {},
   "outputs": [],
   "source": []
  }
 ],
 "metadata": {
  "kernelspec": {
   "display_name": "Python 3",
   "language": "python",
   "name": "python3"
  },
  "language_info": {
   "codemirror_mode": {
    "name": "ipython",
    "version": 3
   },
   "file_extension": ".py",
   "mimetype": "text/x-python",
   "name": "python",
   "nbconvert_exporter": "python",
   "pygments_lexer": "ipython3",
   "version": "3.7.6"
  }
 },
 "nbformat": 4,
 "nbformat_minor": 4
}
