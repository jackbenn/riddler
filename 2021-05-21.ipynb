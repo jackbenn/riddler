{
 "cells": [
  {
   "cell_type": "markdown",
   "id": "99211581",
   "metadata": {},
   "source": [
    "https://fivethirtyeight.com/features/no-isosceles-triangles-for-you/"
   ]
  },
  {
   "cell_type": "code",
   "execution_count": 37,
   "id": "2ba2ddaf",
   "metadata": {},
   "outputs": [],
   "source": [
    "import numpy as np\n",
    "from scipy.spatial import distance_matrix\n",
    "import itertools"
   ]
  },
  {
   "cell_type": "markdown",
   "id": "2d05c107",
   "metadata": {},
   "source": [
    "# Express"
   ]
  },
  {
   "cell_type": "markdown",
   "id": "4bf7aa97",
   "metadata": {},
   "source": [
    "# Classic"
   ]
  },
  {
   "cell_type": "markdown",
   "id": "08b5151a",
   "metadata": {},
   "source": [
    "Let's consider all the possibilities."
   ]
  },
  {
   "cell_type": "code",
   "execution_count": 3,
   "id": "ca6bee48",
   "metadata": {},
   "outputs": [],
   "source": [
    "def is_isosceles(pts):\n",
    "    d = ((pts - pts.reshape(3, 1, -1))**2).sum(axis=2)\n",
    "    return (d[0, 1] == d[0, 2] or \n",
    "            d[0, 1] == d[1, 2] or\n",
    "            d[0, 2] == d[1, 2])"
   ]
  },
  {
   "cell_type": "code",
   "execution_count": 26,
   "id": "sophisticated-trail",
   "metadata": {},
   "outputs": [],
   "source": [
    "def draw_grid(pts):\n",
    "    out = ''\n",
    "    size = pts.max() + 1\n",
    "    for i in range(size):\n",
    "        for j in range(size):\n",
    "            if (pts == [i, j]).all(axis=1).any():\n",
    "                out += 'o '\n",
    "            else:\n",
    "                out += '. '\n",
    "        out += '\\n'\n",
    "    return out"
   ]
  },
  {
   "cell_type": "code",
   "execution_count": 36,
   "id": "5c03a21b",
   "metadata": {
    "scrolled": false
   },
   "outputs": [
    {
     "name": "stdout",
     "output_type": "stream",
     "text": [
      "n=0\n",
      "None\n",
      "n=1\n",
      "o \n",
      "\n",
      "n=2\n",
      "o o \n",
      ". . \n",
      "\n",
      "n=3\n",
      "o o . o \n",
      ". . . . \n",
      ". . . . \n",
      ". . . . \n",
      "\n",
      "n=4\n",
      "o o . o o \n",
      ". . . . . \n",
      ". . . . . \n",
      ". . . . . \n",
      ". . . . . \n",
      "\n",
      "n=5\n",
      "o o . o o \n",
      ". . . . . \n",
      "o . . . . \n",
      ". . . . . \n",
      ". . . . . \n",
      "\n",
      "n=6\n",
      "o o . o o \n",
      ". . . . . \n",
      "o . . . o \n",
      ". . . . . \n",
      ". . . . . \n",
      "\n",
      "n=7\n",
      "o o . . o \n",
      ". . . o . \n",
      ". . . . . \n",
      ". . . o . \n",
      ". o . o . \n",
      "\n",
      "n=8\n"
     ]
    }
   ],
   "source": [
    "size=5\n",
    "all_pts = np.mgrid[0:size, 0:size].reshape(2, -1).T\n",
    "success = None\n",
    "for n in range(1, size**2+1):\n",
    "    print(f'n={n}')\n",
    "    for idx in itertools.combinations(range(size**2), n):\n",
    "        for triplet in itertools.combinations(idx, 3):\n",
    "            if is_isosceles(all_pts[list(triplet)]):\n",
    "                break\n",
    "        else:\n",
    "            success = idx\n",
    "            print(draw_grid(all_pts[list(success)]))\n",
    "            break\n",
    "    else:\n",
    "        break\n",
    "#print(all_pts[list(success)]) \n"
   ]
  },
  {
   "cell_type": "markdown",
   "id": "62b859d3",
   "metadata": {},
   "source": [
    "o o . .\n",
    ". . . .\n",
    "o . . o\n",
    ". o . o\n",
    "\n",
    "\n",
    "o o . . o\n",
    ". . . o .\n",
    ". . . . .\n",
    ". . . o .\n",
    ". o . o ."
   ]
  },
  {
   "cell_type": "markdown",
   "id": "perfect-opera",
   "metadata": {},
   "source": [
    "So the pattern seems to be:\n",
    "   \n",
    "size | max points\n",
    "---|---\n",
    "1  | 1\n",
    "2  | 2\n",
    "3  | 4\n",
    "4  | 6\n",
    "5  | 7\n",
    "6  | 9"
   ]
  },
  {
   "cell_type": "code",
   "execution_count": null,
   "id": "fecb788c",
   "metadata": {},
   "outputs": [],
   "source": []
  }
 ],
 "metadata": {
  "kernelspec": {
   "display_name": "Python 3",
   "language": "python",
   "name": "python3"
  },
  "language_info": {
   "codemirror_mode": {
    "name": "ipython",
    "version": 3
   },
   "file_extension": ".py",
   "mimetype": "text/x-python",
   "name": "python",
   "nbconvert_exporter": "python",
   "pygments_lexer": "ipython3",
   "version": "3.7.7"
  }
 },
 "nbformat": 4,
 "nbformat_minor": 5
}
