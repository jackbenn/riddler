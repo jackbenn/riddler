{
 "cells": [
  {
   "cell_type": "markdown",
   "metadata": {},
   "source": [
    "https://fivethirtyeight.com/features/can-you-pass-the-cranberry-sauce/"
   ]
  },
  {
   "cell_type": "markdown",
   "metadata": {},
   "source": [
    "# Riddler Express"
   ]
  },
  {
   "cell_type": "markdown",
   "metadata": {},
   "source": [
    "# Riddler Classic"
   ]
  },
  {
   "cell_type": "markdown",
   "metadata": {},
   "source": [
    "Let's do a simulation first."
   ]
  },
  {
   "cell_type": "code",
   "execution_count": 23,
   "metadata": {},
   "outputs": [],
   "source": [
    "import numpy as np\n",
    "from scipy import stats\n",
    "import matplotlib.pyplot as plt\n",
    "%matplotlib inline"
   ]
  },
  {
   "cell_type": "code",
   "execution_count": 38,
   "metadata": {
    "scrolled": false
   },
   "outputs": [
    {
     "name": "stdout",
     "output_type": "stream",
     "text": [
      "0..........100..........200..........300..........400..........500..........600..........700..........800..........900..........1000..........1100..........1200..........1300..........1400..........1500..........1600..........1700..........1800..........1900..........2000..........2100..........2200..........2300..........2400..........2500..........2600..........2700..........2800..........2900..........3000..........3100..........3200..........3300..........3400..........3500..........3600..........3700..........3800..........3900..........4000..........4100..........4200..........4300..........4400..........4500..........4600..........4700..........4800..........4900..........5000..........5100..........5200..........5300..........5400..........5500..........5600..........5700..........5800..........5900..........6000..........6100..........6200..........6300..........6400..........6500..........6600..........6700..........6800..........6900..........7000..........7100..........7200..........7300..........7400..........7500..........7600..........7700..........7800..........7900..........8000..........8100..........8200..........8300..........8400..........8500..........8600..........8700..........8800..........8900..........9000..........9100..........9200..........9300..........9400..........9500..........9600..........9700..........9800..........9900.........."
     ]
    }
   ],
   "source": [
    "n_trials = 10000\n",
    "n_seats = 4\n",
    "lasts = np.zeros(n_seats + 1)\n",
    "for t in range(n_trials):\n",
    "    left = 0\n",
    "    right = n_seats\n",
    "    current = 0\n",
    "    \n",
    "    while True:\n",
    "        if stats.bernoulli(0.5).rvs():\n",
    "            if current == n_seats:\n",
    "                current -= n_seats\n",
    "            if current == left:\n",
    "                left += 1\n",
    "            current += 1\n",
    "\n",
    "        else:\n",
    "            if current == 0:\n",
    "                current += n_seats\n",
    "            if current == right:\n",
    "                right -= 1\n",
    "            current -= 1\n",
    "\n",
    "        # print(f\"{left:2d} {current:2d} {right:2d}\")\n",
    "        if left + 1 == right:\n",
    "            lasts[current] += 1\n",
    "            break\n",
    "    if t % 100 == 0:\n",
    "        print(t, end='')\n",
    "    if t % 10 == 0:\n",
    "        print('.', end='')\n",
    "            \n",
    "\n",
    "lasts[0] += lasts[n_seats]\n",
    "lasts[n_seats] = 0"
   ]
  },
  {
   "cell_type": "code",
   "execution_count": 39,
   "metadata": {},
   "outputs": [
    {
     "name": "stdout",
     "output_type": "stream",
     "text": [
      "[   0. 3329. 3327. 3344.    0.]\n"
     ]
    }
   ],
   "source": [
    "print(lasts)"
   ]
  },
  {
   "cell_type": "code",
   "execution_count": 40,
   "metadata": {},
   "outputs": [
    {
     "data": {
      "image/png": "[encoded data removed]",
      "text/plain": [
       "<Figure size 864x360 with 1 Axes>"
      ]
     },
     "metadata": {
      "needs_background": "light"
     },
     "output_type": "display_data"
    }
   ],
   "source": [
    "fig, ax = plt.subplots(figsize=(12, 5))\n",
    "ax.bar(range(n_seats),\n",
    "       lasts[:-1])\n",
    "ax.set_xticks(range(n_seats));"
   ]
  },
  {
   "cell_type": "markdown",
   "metadata": {},
   "source": [
    "Well that's odd.\n",
    "\n",
    "Let's do a markov chain with 4 people.\n",
    "\n",
    "The states are:\n",
    "\n",
    "letter | current | left | right | next\n",
    "-------|---------|------|-------|------\n",
    "a | 0 | 0 | 4  | c, h\n",
    "b | 0 | 1 | 4  | c, i\n",
    "c | 1 | 1 | 4  | f, b\n",
    "d | 0 | 2 | 4  | e, X\n",
    "e | 1 | 2 | 4  | f, d\n",
    "f | 2 | 2 | 4  | X, e\n",
    "X | 3 | 3 | 4  | \n",
    "g | 0 | 0 | 3  | j, h\n",
    "h | 3 | 0 | 3  | g, n\n",
    "i | 0 | 1 | 3  | j, k\n",
    "j | 1 | 1 | 3  | X, i\n",
    "k | 3 | 1 | 3  | j, X\n",
    "X | 2 | 2 | 3  | \n",
    "X | 3 | 2 | 3  | \n",
    "l | 0 | 0 | 2  | X, m\n",
    "m | 3 | 0 | 2  | l, n\n",
    "n | 2 | 0 | 2  | m, X\n",
    "X | 1 | 1 | 2  | \n",
    "X | 2 | 1 | 2  | \n",
    "X | 1 | 0 | 1  | \n",
    "\n",
    "\n",
    "That's a pain. Left simplify, tracking number visited and position within visit, removing all symmetry.\n",
    "\n",
    "letter | length | position | next\n",
    "-------|--------|----------|------\n",
    "a | 0 | 0 | b\n",
    "b | 1 | 0 | b, c\n",
    "c | 2 | 0 | b, d\n",
    "d | 2 | 1 | c\n",
    "X | 3 | - | \n",
    "\n",
    "Um, never mind, that won't help with the end position."
   ]
  },
  {
   "cell_type": "code",
   "execution_count": null,
   "metadata": {},
   "outputs": [],
   "source": []
  }
 ],
 "metadata": {
  "kernelspec": {
   "display_name": "Python 3",
   "language": "python",
   "name": "python3"
  },
  "language_info": {
   "codemirror_mode": {
    "name": "ipython",
    "version": 3
   },
   "file_extension": ".py",
   "mimetype": "text/x-python",
   "name": "python",
   "nbconvert_exporter": "python",
   "pygments_lexer": "ipython3",
   "version": "3.7.7"
  }
 },
 "nbformat": 4,
 "nbformat_minor": 4
}
