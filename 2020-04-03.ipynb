{
 "cells": [
  {
   "cell_type": "markdown",
   "metadata": {},
   "source": [
    "https://fivethirtyeight.com/features/can-you-tell-when-the-snow-started/"
   ]
  },
  {
   "cell_type": "markdown",
   "metadata": {},
   "source": [
    "## Riddler Express"
   ]
  },
  {
   "cell_type": "code",
   "execution_count": null,
   "metadata": {},
   "outputs": [],
   "source": []
  },
  {
   "cell_type": "code",
   "execution_count": null,
   "metadata": {},
   "outputs": [],
   "source": []
  },
  {
   "cell_type": "markdown",
   "metadata": {},
   "source": [
    "$$\n",
    "\\frac{\\sin{x}}{2 - \\cos{x}} = \\frac{\\cos{x}}{\\sin{x}}\n",
    "$$"
   ]
  },
  {
   "cell_type": "markdown",
   "metadata": {},
   "source": [
    "$$\n",
    "\\sin^2{x} = 2\\cos{x} - \\cos^2{x}\n",
    "$$"
   ]
  },
  {
   "cell_type": "markdown",
   "metadata": {},
   "source": [
    "$$1 = 2\\cos{x}\n",
    "$$\n",
    "$$\n",
    "\\cos{x} = 1/2$$\n",
    "$$\n",
    "x = \\pi/3\n",
    "$$"
   ]
  },
  {
   "cell_type": "code",
   "execution_count": 1,
   "metadata": {},
   "outputs": [],
   "source": [
    "import numpy as np"
   ]
  },
  {
   "cell_type": "code",
   "execution_count": 15,
   "metadata": {},
   "outputs": [
    {
     "data": {
      "text/plain": [
       "8.337745076296425"
      ]
     },
     "execution_count": 15,
     "metadata": {},
     "output_type": "execute_result"
    }
   ],
   "source": [
    "3 * (np.pi / 3 + np.sqrt(12/4) )"
   ]
  },
  {
   "cell_type": "code",
   "execution_count": 17,
   "metadata": {},
   "outputs": [
    {
     "data": {
      "text/plain": [
       "14.62093038347601"
      ]
     },
     "execution_count": 17,
     "metadata": {},
     "output_type": "execute_result"
    }
   ],
   "source": [
    "3 * (np.pi + np.sqrt(3))"
   ]
  },
  {
   "cell_type": "markdown",
   "metadata": {},
   "source": [
    "# Riddler Classic"
   ]
  },
  {
   "cell_type": "markdown",
   "metadata": {},
   "source": [
    "speed = a/x\n",
    "distance = a ln(x) + C\n",
    "start at x1\n",
    "distance 1st hour = a(ln(x1 + 1) - ln(x1))\n",
    "distance 2nd hour = a(ln(x1 + 2) - ln(x1 + 1))\n",
    "\n",
    "\n",
    "a(ln(x1 + 1) - ln(x1)) = 2 * a(ln(x1 + 2) - ln(x1 + 1))\n",
    "(ln(x1 + 1) - ln(x1)) = 2 * (ln(x1 + 2) - ln(x1 + 1))\n",
    "ln((x1+1)/x1) = ln(((x1+2)/(x1+1))^2)\n",
    "(x1+1)/x1 = (x1+2)^2/(x1+1)^2\n",
    "(x1+1)^3 = x(x1+2)^2\n",
    "x^3 + 3x^2 + 3x + 1 = x^3 + 4x^2 + 4x\n",
    "x^2 + x - 1 = 0\n",
    "x = -1 +- sqrt(1 + 4) / 2\n",
    " = -1 += sqrt(5)/2"
   ]
  },
  {
   "cell_type": "code",
   "execution_count": 18,
   "metadata": {},
   "outputs": [
    {
     "data": {
      "text/plain": [
       "0.6180339887498949"
      ]
     },
     "execution_count": 18,
     "metadata": {},
     "output_type": "execute_result"
    }
   ],
   "source": [
    "(-1 + np.sqrt(5))/2"
   ]
  },
  {
   "cell_type": "code",
   "execution_count": null,
   "metadata": {},
   "outputs": [],
   "source": []
  }
 ],
 "metadata": {
  "kernelspec": {
   "display_name": "Python 3",
   "language": "python",
   "name": "python3"
  },
  "language_info": {
   "codemirror_mode": {
    "name": "ipython",
    "version": 3
   },
   "file_extension": ".py",
   "mimetype": "text/x-python",
   "name": "python",
   "nbconvert_exporter": "python",
   "pygments_lexer": "ipython3",
   "version": "3.7.6"
  }
 },
 "nbformat": 4,
 "nbformat_minor": 4
}
